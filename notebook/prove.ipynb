{
 "cells": [
  {
   "cell_type": "code",
   "execution_count": 72,
   "metadata": {},
   "outputs": [],
   "source": [
    "from datetime import datetime, timedelta\n",
    "import math\n",
    "from typing import List\n",
    "\n",
    "def to_seconds(time: timedelta) -> float:\n",
    "    return time.total_seconds()\n",
    "\n",
    "def RR(delta_time: float, K_value: float) -> float:\n",
    "    \"\"\"Return the retention rate of the user from 0 to 1\n",
    "\n",
    "    Args:\n",
    "        delta_time: the time since the last refresh in seconds\n",
    "        K_value: the K value of the user\n",
    "    \"\"\"\n",
    "    return math.exp(-delta_time / K_value)\n",
    "\n",
    "def Ktime(Ltime: float, RR_to_refresh: float = 0.8) -> float:\n",
    "    \"\"\"Return the K value of the user\n",
    "\n",
    "    Args:\n",
    "        Ltime: delta time when the RR will reach RR_to_refresh\n",
    "        RR_to_refresh: the retention rate to refresh the user\n",
    "    \"\"\"\n",
    "    return -Ltime / math.log(RR_to_refresh)\n",
    "\n",
    "\n",
    "def Lt(\n",
    "        refresh_number: int,\n",
    "        difficulty: float = 1,\n",
    "        Ltmax: float = 31536000\n",
    "    ) -> float:\n",
    "    \"\"\"Get the Loosing time dependig on the refresh number\n",
    "\n",
    "    The loosing time is the time it takes for the user to reach RR_to_refresh\n",
    "\n",
    "    Args:\n",
    "        refresh_number: the number of refreshes\n",
    "        S_value: the S value calculated depending on the complexity of the\n",
    "            element\n",
    "        Ltmax: the maximum loosing time in seconds, default is 1 year\n",
    "    \"\"\"\n",
    "    difficulty = difficulty if difficulty >= 0 else 0\n",
    "    return Ltmax / (1 + 132232.47*math.exp(-2.3527 * (refresh_number - difficulty / 3)))\n",
    "\n",
    "\n",
    "\n",
    "def RetentionRate(\n",
    "        last_refresh: datetime | timedelta,\n",
    "        refresh_number: int,\n",
    "        difficulty: float,\n",
    "        RR_to_refresh: float = 0.8\n",
    "    ) -> float:\n",
    "    \"\"\"Return the retention rate of the user from 0 to 1\"\"\"\n",
    "    if isinstance(last_refresh, timedelta):\n",
    "        delta_time = to_seconds(last_refresh)\n",
    "    elif isinstance(last_refresh, datetime):\n",
    "        delta_time = to_seconds(datetime.now() - last_refresh)\n",
    "    else:\n",
    "        raise TypeError(\"last_refresh must be a timedelta or a datetime object\")\n",
    "    K_value = Ktime(Lt(refresh_number, difficulty), RR_to_refresh)\n",
    "    return RR(delta_time, K_value)"
   ]
  },
  {
   "cell_type": "code",
   "execution_count": 29,
   "metadata": {},
   "outputs": [],
   "source": [
    "LTmax = 60*60*24*365\n",
    "l_time = [60, 60*60, 60*60*24, 60*60*24*7]"
   ]
  },
  {
   "cell_type": "code",
   "execution_count": 79,
   "metadata": {},
   "outputs": [
    {
     "name": "stdout",
     "output_type": "stream",
     "text": [
      "Lt: 404988.8844979583\n",
      "345600.0 1814925.3344439748\n"
     ]
    },
    {
     "data": {
      "text/plain": [
       "82.66110105618549"
      ]
     },
     "execution_count": 79,
     "metadata": {},
     "output_type": "execute_result"
    }
   ],
   "source": [
    "RetentionRate(\n",
    "    timedelta(days=4),\n",
    "    refresh_number=3,\n",
    "    difficulty=0.5,\n",
    "    RR_to_refresh=0.8) * 100"
   ]
  },
  {
   "cell_type": "code",
   "execution_count": null,
   "metadata": {},
   "outputs": [],
   "source": []
  },
  {
   "cell_type": "code",
   "execution_count": 59,
   "metadata": {},
   "outputs": [
    {
     "data": {
      "text/plain": [
       "['0:41:47.255510',\n",
       " '7:19:01.156944',\n",
       " '3 days, 4:19:25.309066',\n",
       " '30 days, 21:02:05.984285',\n",
       " '179 days, 20:53:44.156409',\n",
       " '332 days, 10:55:18.263287',\n",
       " '361 days, 15:11:24.128542',\n",
       " '364 days, 16:14:57.490140',\n",
       " '364 days, 23:15:44.009662']"
      ]
     },
     "execution_count": 59,
     "metadata": {},
     "output_type": "execute_result"
    }
   ],
   "source": [
    "[str(timedelta(seconds=Lt(i))) for i in range(1, 10)]"
   ]
  }
 ],
 "metadata": {
  "kernelspec": {
   "display_name": ".venv",
   "language": "python",
   "name": "python3"
  },
  "language_info": {
   "codemirror_mode": {
    "name": "ipython",
    "version": 3
   },
   "file_extension": ".py",
   "mimetype": "text/x-python",
   "name": "python",
   "nbconvert_exporter": "python",
   "pygments_lexer": "ipython3",
   "version": "3.12.4"
  }
 },
 "nbformat": 4,
 "nbformat_minor": 2
}
