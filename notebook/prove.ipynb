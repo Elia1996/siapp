{
 "cells": [
  {
   "cell_type": "code",
   "execution_count": 72,
   "metadata": {},
   "outputs": [],
   "source": [
    "from datetime import datetime, timedelta\n",
    "import math\n",
    "from typing import List\n",
    "\n",
    "def to_seconds(time: timedelta) -> float:\n",
    "    return time.total_seconds()\n",
    "\n",
    "def RR(delta_time: float, K_value: float) -> float:\n",
    "    \"\"\"Return the retention rate of the user from 0 to 1\n",
    "\n",
    "    Args:\n",
    "        delta_time: the time since the last refresh in seconds\n",
    "        K_value: the K value of the user\n",
    "    \"\"\"\n",
    "    return math.exp(-delta_time / K_value)\n",
    "\n",
    "def Ktime(Ltime: float, RR_to_refresh: float = 0.8) -> float:\n",
    "    \"\"\"Return the K value of the user\n",
    "\n",
    "    Args:\n",
    "        Ltime: delta time when the RR will reach RR_to_refresh\n",
    "        RR_to_refresh: the retention rate to refresh the user\n",
    "    \"\"\"\n",
    "    return -Ltime / math.log(RR_to_refresh)\n",
    "\n",
    "\n",
    "def Lt(\n",
    "        refresh_number: int,\n",
    "        difficulty: float = 1,\n",
    "        Ltmax: float = 31536000\n",
    "    ) -> float:\n",
    "    \"\"\"Get the Loosing time dependig on the refresh number\n",
    "\n",
    "    The loosing time is the time it takes for the user to reach RR_to_refresh\n",
    "\n",
    "    Args:\n",
    "        refresh_number: the number of refreshes\n",
    "        S_value: the S value calculated depending on the complexity of the\n",
    "            element\n",
    "        Ltmax: the maximum loosing time in seconds, default is 1 year\n",
    "    \"\"\"\n",
    "    difficulty = difficulty if difficulty >= 0 else 0\n",
    "    return Ltmax / (1 + 132232.47*math.exp(-2.3527 * (refresh_number - difficulty / 3)))\n",
    "\n",
    "\n",
    "\n",
    "def RetentionRate(\n",
    "        last_refresh: datetime | timedelta,\n",
    "        refresh_number: int,\n",
    "        difficulty: float,\n",
    "        RR_to_refresh: float = 0.8\n",
    "    ) -> float:\n",
    "    \"\"\"Return the retention rate of the user from 0 to 1\"\"\"\n",
    "    if isinstance(last_refresh, timedelta):\n",
    "        delta_time = to_seconds(last_refresh)\n",
    "    elif isinstance(last_refresh, datetime):\n",
    "        delta_time = to_seconds(datetime.now() - last_refresh)\n",
    "    else:\n",
    "        raise TypeError(\"last_refresh must be a timedelta or a datetime object\")\n",
    "    K_value = Ktime(Lt(refresh_number, difficulty), RR_to_refresh)\n",
    "    return RR(delta_time, K_value)"
   ]
  },
  {
   "cell_type": "code",
   "execution_count": 29,
   "metadata": {},
   "outputs": [],
   "source": [
    "LTmax = 60*60*24*365\n",
    "l_time = [60, 60*60, 60*60*24, 60*60*24*7]"
   ]
  },
  {
   "cell_type": "code",
   "execution_count": 79,
   "metadata": {},
   "outputs": [
    {
     "name": "stdout",
     "output_type": "stream",
     "text": [
      "Lt: 404988.8844979583\n",
      "345600.0 1814925.3344439748\n"
     ]
    },
    {
     "data": {
      "text/plain": [
       "82.66110105618549"
      ]
     },
     "execution_count": 79,
     "metadata": {},
     "output_type": "execute_result"
    }
   ],
   "source": [
    "RetentionRate(\n",
    "    timedelta(days=4),\n",
    "    refresh_number=3,\n",
    "    difficulty=0.5,\n",
    "    RR_to_refresh=0.8) * 100"
   ]
  },
  {
   "cell_type": "code",
   "execution_count": 1,
   "metadata": {},
   "outputs": [],
   "source": [
    "import sys\n",
    "\n",
    "sys.path.append(r\"C:\\Users\\rango\\Desktop\\Personale\\siapp\")\n",
    "from siapp.db.database import set_work_log"
   ]
  },
  {
   "cell_type": "code",
   "execution_count": 2,
   "metadata": {},
   "outputs": [],
   "source": [
    "from datetime import datetime, timedelta\n",
    "\n",
    "t1 = datetime(2024, 11, 8, 8)\n",
    "t2 = datetime(2024, 11, 8, 10)\n",
    "t3 = datetime(2024, 11, 8, 10, 12)\n",
    "t4 = datetime(2024, 11, 8, 11, 31)\n",
    "t5 = datetime(2024, 11, 8, 12, 45)\n",
    "t6 = datetime(2024, 11, 8, 16, 1)\n",
    "t7 = datetime(2024, 11, 8, 16, 30)\n",
    "t8 = datetime(2024, 11, 8, 17, 15)\n",
    "l_t = [t1, t2, t3, t4, t5, t6, t7, t8]\n",
    "\n",
    "for i, t in enumerate(l_t):\n",
    "    set_work_log(True if i % 2 == 0 else False, t)"
   ]
  },
  {
   "cell_type": "code",
   "execution_count": 3,
   "metadata": {},
   "outputs": [],
   "source": [
    "t1 = datetime(2024, 11, 9, 8)\n",
    "t4 = datetime(2024, 11, 9, 11, 31)\n",
    "t5 = datetime(2024, 11, 9, 12, 45)\n",
    "t6 = datetime(2024, 11, 9, 16, 1)\n",
    "t7 = datetime(2024, 11, 9, 16, 30)\n",
    "t8 = datetime(2024, 11, 9, 17, 15)\n",
    "l_t = [t1, t4, t5, t6, t7, t8]\n",
    "\n",
    "for i, t in enumerate(l_t):\n",
    "    set_work_log(True if i % 2 == 0 else False, t)"
   ]
  },
  {
   "cell_type": "code",
   "execution_count": 5,
   "metadata": {},
   "outputs": [
    {
     "name": "stdout",
     "output_type": "stream",
     "text": [
      "[WorkLog(id=1, workday_id=1, timestamp=datetime.datetime(2024, 11, 8, 8, 0), check_in=True), WorkLog(id=2, workday_id=1, timestamp=datetime.datetime(2024, 11, 8, 10, 0), check_in=False), WorkLog(id=3, workday_id=1, timestamp=datetime.datetime(2024, 11, 8, 10, 12), check_in=True), WorkLog(id=4, workday_id=1, timestamp=datetime.datetime(2024, 11, 8, 11, 31), check_in=False), WorkLog(id=5, workday_id=1, timestamp=datetime.datetime(2024, 11, 8, 12, 45), check_in=True), WorkLog(id=6, workday_id=1, timestamp=datetime.datetime(2024, 11, 8, 16, 1), check_in=False), WorkLog(id=7, workday_id=1, timestamp=datetime.datetime(2024, 11, 8, 16, 30), check_in=True), WorkLog(id=8, workday_id=1, timestamp=datetime.datetime(2024, 11, 8, 17, 15), check_in=False)]\n",
      "time_of_work\n",
      "time_of_work\n",
      "time_of_work\n",
      "time_of_work\n",
      "[WorkLog(id=9, workday_id=2, timestamp=datetime.datetime(2024, 11, 9, 8, 0), check_in=True), WorkLog(id=10, workday_id=2, timestamp=datetime.datetime(2024, 11, 9, 11, 31), check_in=False), WorkLog(id=11, workday_id=2, timestamp=datetime.datetime(2024, 11, 9, 12, 45), check_in=True), WorkLog(id=12, workday_id=2, timestamp=datetime.datetime(2024, 11, 9, 16, 1), check_in=False), WorkLog(id=13, workday_id=2, timestamp=datetime.datetime(2024, 11, 9, 16, 30), check_in=True), WorkLog(id=14, workday_id=2, timestamp=datetime.datetime(2024, 11, 9, 17, 15), check_in=False)]\n",
      "time_of_work\n",
      "time_of_work\n",
      "time_of_work\n"
     ]
    }
   ],
   "source": [
    "from siapp.db.database import analyze_hours\n",
    "\n",
    "analyze_hours()\n"
   ]
  },
  {
   "cell_type": "code",
   "execution_count": 10,
   "metadata": {},
   "outputs": [
    {
     "data": {
      "text/plain": [
       "[{'date': '2024-11-08 00:00:00',\n",
       "  'work_time': '7:20:00',\n",
       "  'lunch_break': '1:14:00',\n",
       "  'work_break': '0:41:00'},\n",
       " {'date': '2024-11-09 00:00:00',\n",
       "  'work_time': '7:32:00',\n",
       "  'lunch_break': '1:14:00',\n",
       "  'work_break': '0:29:00'}]"
      ]
     },
     "execution_count": 10,
     "metadata": {},
     "output_type": "execute_result"
    }
   ],
   "source": [
    "from siapp.db.database import get_data_summary\n",
    "\n",
    "get_data_summary()"
   ]
  },
  {
   "cell_type": "code",
   "execution_count": 11,
   "metadata": {},
   "outputs": [
    {
     "ename": "NameError",
     "evalue": "name 'Lt' is not defined",
     "output_type": "error",
     "traceback": [
      "\u001b[1;31m---------------------------------------------------------------------------\u001b[0m",
      "\u001b[1;31mNameError\u001b[0m                                 Traceback (most recent call last)",
      "Cell \u001b[1;32mIn[11], line 1\u001b[0m\n\u001b[1;32m----> 1\u001b[0m [\u001b[38;5;28mstr\u001b[39m(timedelta(seconds\u001b[38;5;241m=\u001b[39m\u001b[43mLt\u001b[49m(i))) \u001b[38;5;28;01mfor\u001b[39;00m i \u001b[38;5;129;01min\u001b[39;00m \u001b[38;5;28mrange\u001b[39m(\u001b[38;5;241m1\u001b[39m, \u001b[38;5;241m10\u001b[39m)]\n",
      "\u001b[1;31mNameError\u001b[0m: name 'Lt' is not defined"
     ]
    },
    {
     "ename": "",
     "evalue": "",
     "output_type": "error",
     "traceback": [
      "\u001b[1;31mThe Kernel crashed while executing code in the current cell or a previous cell. \n",
      "\u001b[1;31mPlease review the code in the cell(s) to identify a possible cause of the failure. \n",
      "\u001b[1;31mClick <a href='https://aka.ms/vscodeJupyterKernelCrash'>here</a> for more info. \n",
      "\u001b[1;31mView Jupyter <a href='command:jupyter.viewOutput'>log</a> for further details."
     ]
    }
   ],
   "source": [
    "[str(timedelta(seconds=Lt(i))) for i in range(1, 10)]"
   ]
  }
 ],
 "metadata": {
  "kernelspec": {
   "display_name": ".venv",
   "language": "python",
   "name": "python3"
  },
  "language_info": {
   "codemirror_mode": {
    "name": "ipython",
    "version": 3
   },
   "file_extension": ".py",
   "mimetype": "text/x-python",
   "name": "python",
   "nbconvert_exporter": "python",
   "pygments_lexer": "ipython3",
   "version": "3.12.4"
  }
 },
 "nbformat": 4,
 "nbformat_minor": 2
}
